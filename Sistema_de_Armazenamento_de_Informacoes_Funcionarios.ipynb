{
  "nbformat": 4,
  "nbformat_minor": 0,
  "metadata": {
    "colab": {
      "provenance": [],
      "authorship_tag": "ABX9TyNJnm+Di/DZBR2ZmAECyJCE",
      "include_colab_link": true
    },
    "kernelspec": {
      "name": "python3",
      "display_name": "Python 3"
    },
    "language_info": {
      "name": "python"
    }
  },
  "cells": [
    {
      "cell_type": "markdown",
      "metadata": {
        "id": "view-in-github",
        "colab_type": "text"
      },
      "source": [
        "<a href=\"https://colab.research.google.com/github/DouglasR1/Projeto_Infor_Funcionarios/blob/main/Sistema_de_Armazenamento_de_Informacoes_Funcionarios.ipynb\" target=\"_parent\"><img src=\"https://colab.research.google.com/assets/colab-badge.svg\" alt=\"Open In Colab\"/></a>"
      ]
    },
    {
      "cell_type": "code",
      "execution_count": 1,
      "metadata": {
        "id": "7SJUw9mnTYhX"
      },
      "outputs": [],
      "source": [
        "# Sistema que Armazena Informações de Funcionarios de uma Empresa para melhor Organização entre Funcionarios e Empresa\n",
        "# Douglas Rodrigues Cezário\n",
        "# Data: 09/04/2023"
      ]
    },
    {
      "cell_type": "code",
      "source": [
        "class Funcionario:\n",
        "    def __init__(self,nome,email):\n",
        "        self.nome= nome\n",
        "        self.email= email\n",
        "        self.horas= {}\n",
        "        self.salario_hora= {}\n",
        "    def cadastro_hora(self, mes, horas):\n",
        "        if (mes not in self.horas):\n",
        "            self.horas[mes] = horas\n",
        "    def cadastro_salario_hora(self, mes, valor):\n",
        "        if (mes not in self.salario_hora):\n",
        "            self.salario_hora[mes] = valor\n",
        "    def calcula_salario(self, mes):\n",
        "        if (mes not in self.horas) or (mes not in self.salario_hora):\n",
        "            print('Mes Inexistente!!')\n",
        "        else:\n",
        "            return self.horas[mes] * self.salario_hora[mes]\n",
        "    def __repr__(self):\n",
        "        return f'Funcionário: {self.nome}, \\nEmail: {self.email}, \\nhoras/mês: {self.horas}, \\nsalário-hora: {self.salario_hora}'"
      ],
      "metadata": {
        "id": "PBye_LjH0Mjk"
      },
      "execution_count": 2,
      "outputs": []
    },
    {
      "cell_type": "code",
      "source": [
        "funcionario= Funcionario('Douglas', 'douglas...@gmail.com')\n",
        "\n",
        "funcionario.cadastro_hora('Jan', 300)\n",
        "funcionario.cadastro_hora('Fev', 200)\n",
        "funcionario.cadastro_salario_hora('Jan', 30)\n",
        "funcionario.cadastro_salario_hora('Fev', 30)\n",
        "print(funcionario)\n",
        "print(funcionario.calcula_salario('Jan'))\n",
        "print(funcionario.calcula_salario('Fev'))"
      ],
      "metadata": {
        "colab": {
          "base_uri": "https://localhost:8080/"
        },
        "id": "X2e7bteU0Mx0",
        "outputId": "be7c3642-f2ca-4871-d3f7-917085bdff8a"
      },
      "execution_count": 3,
      "outputs": [
        {
          "output_type": "stream",
          "name": "stdout",
          "text": [
            "Funcionário: Douglas, \n",
            "Email: douglas...@gmail.com, \n",
            "horas/mês: {'Jan': 300, 'Fev': 200}, \n",
            "salário-hora: {'Jan': 30, 'Fev': 30}\n",
            "9000\n",
            "6000\n"
          ]
        }
      ]
    }
  ]
}